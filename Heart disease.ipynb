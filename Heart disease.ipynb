{
 "cells": [
  {
   "cell_type": "code",
   "execution_count": 1,
   "metadata": {},
   "outputs": [],
   "source": [
    "import time\n",
    "import numpy as np\n",
    "import pandas as pd\n",
    "from sklearn import metrics\n",
    "import joblib\n",
    "import seaborn as sns\n",
    "import matplotlib as plt\n",
    "%matplotlib inline\n",
    "import warnings\n",
    "warnings.filterwarnings('ignore')"
   ]
  },
  {
   "cell_type": "code",
   "execution_count": 2,
   "metadata": {},
   "outputs": [
    {
     "name": "stdout",
     "output_type": "stream",
     "text": [
      "      gender  age  currentSmoker  cigsPerDay  BPMeds  prevalentStroke  \\\n",
      "0          1   39              0           8       0                0   \n",
      "1          0   46              0           9       0                0   \n",
      "2          1   48              1           9       1                0   \n",
      "3          0   61              1          60       1                0   \n",
      "4          0   46              1          60       0                0   \n",
      "5          0   43              0          60       0                0   \n",
      "6          0   63              0          50       1                0   \n",
      "7          0   45              1          45       1                0   \n",
      "8          1   52              0          43       0                0   \n",
      "9          1   43              1          43       0                0   \n",
      "10         0   50              0          43       1                0   \n",
      "11         0   43              0          43       1                0   \n",
      "12         1   46              1          43       0                0   \n",
      "13         0   41              0          43       0                0   \n",
      "14         0   39              1          43       1                0   \n",
      "15         0   38              1          43       1                0   \n",
      "16         1   48              1          43       0                0   \n",
      "17         0   46              1          43       0                0   \n",
      "18         0   38              1          43       1                0   \n",
      "19         1   41              0          43       1                0   \n",
      "20         0   42              1          43       1                0   \n",
      "21         0   43              0          43       1                0   \n",
      "22         0   52              0          40       1                0   \n",
      "23         0   52              1          40       1                0   \n",
      "24         1   44              1          40       1                0   \n",
      "25         1   47              1          40       1                0   \n",
      "26         0   60              0          40       1                0   \n",
      "27         1   35              1          40       1                0   \n",
      "28         0   61              0          40       1                0   \n",
      "29         0   60              0          40       1                0   \n",
      "...      ...  ...            ...         ...     ...              ...   \n",
      "1259       0   43              0           0       0                0   \n",
      "1260       1   52              0           0       0                0   \n",
      "1261       0   47              0           0       0                0   \n",
      "1262       0   46              1           0       0                0   \n",
      "1263       0   49              0           0       0                0   \n",
      "1264       1   36              0           0       0                0   \n",
      "1265       1   58              1           0       0                0   \n",
      "1266       1   58              0           0       0                0   \n",
      "1267       0   46              0           0       0                0   \n",
      "1268       1   61              0           0       0                0   \n",
      "1269       0   59              1           0       0                0   \n",
      "1270       0   40              0           0       0                0   \n",
      "1271       0   54              0           0       0                0   \n",
      "1272       0   56              0           0       0                0   \n",
      "1273       1   45              0           0       0                0   \n",
      "1274       0   51              0           0       0                0   \n",
      "1275       0   53              1           0       0                0   \n",
      "1276       0   59              1           0       0                0   \n",
      "1277       1   40              1           0       0                0   \n",
      "1278       1   53              1           0       0                0   \n",
      "1279       1   64              1           0       0                0   \n",
      "1280       1   48              1           0       0                0   \n",
      "1281       0   41              0           0       0                0   \n",
      "1282       1   43              0           0       0                0   \n",
      "1283       1   56              1           0       0                0   \n",
      "1284       1   41              1           0       0                0   \n",
      "1285       0   40              0           0       0                0   \n",
      "1286       0   65              0           0       0                0   \n",
      "1287       0   45              0           0       0                0   \n",
      "1288       0   53              0           0       0                0   \n",
      "\n",
      "      prevalentHyp  diabetes  totChol  sysBP  diaBP    BMI  heartRate  \\\n",
      "0                1         0      236  106.0   70.0  26.00         76   \n",
      "1                1         0      236  121.0   81.0  26.00        140   \n",
      "2                1         0      236  127.5   80.0  26.00        130   \n",
      "3                1         0      236  150.0   95.0  26.00        125   \n",
      "4                1         0      236  130.0   84.0  26.00        112   \n",
      "5                1         0      236  180.0  110.0  45.80        110   \n",
      "6                1         0      236  138.0   71.0  45.79        110   \n",
      "7                1         0      236  100.0   71.0  44.27        110   \n",
      "8                1         0      236  141.5   89.0  44.09        110   \n",
      "9                1         0      236  162.0  107.0  43.69        110   \n",
      "10               1         0      236  133.0   76.0  43.30        110   \n",
      "11               1         0      236  131.0   88.0  42.53        110   \n",
      "12               1         0      236  142.0   94.0  42.15        110   \n",
      "13               1         0      236  124.0   88.0  42.00        110   \n",
      "14               1         0      600  114.0   64.0  40.58        110   \n",
      "15               1         0      464  140.0   90.0  40.52        110   \n",
      "16               1         0      439  138.0   90.0  40.11        108   \n",
      "17               1         0      398  112.0   78.0  39.88        108   \n",
      "18               1         0      392  122.0   84.5  39.60        108   \n",
      "19               1         0      372  139.0   88.0  38.88        108   \n",
      "20               1         0      370  108.0   70.5  38.82        107   \n",
      "21               1         0      368  123.5   77.5  38.53        106   \n",
      "22               1         0      360  148.0   78.0  38.46        105   \n",
      "23               1         0      355  132.0   82.0  38.39        105   \n",
      "24               1         0      353  137.5   90.0  38.38        105   \n",
      "25               1         0      352  102.0   68.0  38.14        105   \n",
      "26               1         0      352  110.0   72.5  37.48        105   \n",
      "27               1         0      346  132.0   91.0  37.41        105   \n",
      "28               1         0      346  182.0  121.0  36.81        104   \n",
      "29               1         0      342  130.0   88.0  36.62        104   \n",
      "...            ...       ...      ...    ...    ...    ...        ...   \n",
      "1259             0         0      160  132.0   88.0  18.98         55   \n",
      "1260             0         0      160  144.0   85.0  18.92         55   \n",
      "1261             0         0      159  123.0   71.0  18.86         55   \n",
      "1262             0         0      159  128.0   76.0  18.84         55   \n",
      "1263             0         0      159  126.5   67.5  18.80         55   \n",
      "1264             0         0      158  131.5   89.0  18.76         55   \n",
      "1265             0         0      157  120.0   74.0  18.70         55   \n",
      "1266             0         0      156  143.0  104.0  18.64         55   \n",
      "1267             0         0      156  128.0   74.0  18.59         55   \n",
      "1268             0         1      155  160.0   96.0  18.59         54   \n",
      "1269             0         0      155  122.0   74.0  18.58         54   \n",
      "1270             0         0      155   97.0   63.0  18.55         54   \n",
      "1271             0         0      154  146.0   95.0  18.52         54   \n",
      "1272             0         0      154  155.0  102.0  18.48         54   \n",
      "1273             0         0      154  128.0   90.0  18.38         53   \n",
      "1274             0         0      152  114.0   85.0  18.23         53   \n",
      "1275             0         0      152  136.5   94.5  18.21         53   \n",
      "1276             0         0      152  175.0   95.0  18.18         53   \n",
      "1277             0         0      152  125.0   94.0  18.06         52   \n",
      "1278             0         0      150  121.0   85.5  17.81         52   \n",
      "1279             0         0      150  116.0   77.0  17.64         51   \n",
      "1280             0         0      150  117.5   80.0  17.61         50   \n",
      "1281             0         0      149  108.0   64.0  17.44         50   \n",
      "1282             0         0      145  132.5   87.5  17.38         50   \n",
      "1283             0         0      145  108.0   70.0  16.87         50   \n",
      "1284             0         0      143  114.5   80.0  16.75         50   \n",
      "1285             0         0      140  108.5   75.0  16.69         50   \n",
      "1286             0         0      137  185.5   97.5  16.59         48   \n",
      "1287             0         0      135  110.0   70.0  15.96         48   \n",
      "1288             0         0      129  125.0   76.0  15.54         44   \n",
      "\n",
      "      glucose  target  \n",
      "0          82       1  \n",
      "1          82       1  \n",
      "2          82       1  \n",
      "3          82       1  \n",
      "4          82       1  \n",
      "5          82       1  \n",
      "6          82       1  \n",
      "7          82       1  \n",
      "8          82       1  \n",
      "9          82       1  \n",
      "10         82       1  \n",
      "11         82       1  \n",
      "12         82       1  \n",
      "13         82       1  \n",
      "14         82       1  \n",
      "15         82       1  \n",
      "16         82       1  \n",
      "17         82       1  \n",
      "18         82       1  \n",
      "19         82       1  \n",
      "20         82       1  \n",
      "21         82       1  \n",
      "22         82       1  \n",
      "23         82       1  \n",
      "24         82       1  \n",
      "25         82       1  \n",
      "26         82       1  \n",
      "27         82       1  \n",
      "28         82       1  \n",
      "29         82       1  \n",
      "...       ...     ...  \n",
      "1259       60       0  \n",
      "1260       60       0  \n",
      "1261       60       0  \n",
      "1262       59       0  \n",
      "1263       59       0  \n",
      "1264       59       0  \n",
      "1265       59       0  \n",
      "1266       58       0  \n",
      "1267       58       0  \n",
      "1268       57       0  \n",
      "1269       57       0  \n",
      "1270       57       0  \n",
      "1271       57       0  \n",
      "1272       57       0  \n",
      "1273       57       0  \n",
      "1274       57       0  \n",
      "1275       57       0  \n",
      "1276       56       0  \n",
      "1277       56       0  \n",
      "1278       55       0  \n",
      "1279       55       0  \n",
      "1280       55       0  \n",
      "1281       55       0  \n",
      "1282       54       0  \n",
      "1283       54       0  \n",
      "1284       53       0  \n",
      "1285       47       0  \n",
      "1286       45       0  \n",
      "1287       45       0  \n",
      "1288       40       0  \n",
      "\n",
      "[1289 rows x 15 columns]\n"
     ]
    }
   ],
   "source": [
    "data = pd.read_excel(r'heart disease.xlsx')\n",
    "print(data)\n"
   ]
  },
  {
   "cell_type": "code",
   "execution_count": 3,
   "metadata": {},
   "outputs": [
    {
     "data": {
      "text/plain": [
       "(1289, 15)"
      ]
     },
     "execution_count": 3,
     "metadata": {},
     "output_type": "execute_result"
    }
   ],
   "source": [
    "data.shape"
   ]
  },
  {
   "cell_type": "code",
   "execution_count": 4,
   "metadata": {},
   "outputs": [],
   "source": [
    "positive = data.loc[data['target']==1]\n",
    "negative = data.loc[data['target']==0]"
   ]
  },
  {
   "cell_type": "code",
   "execution_count": 5,
   "metadata": {},
   "outputs": [],
   "source": [
    "X = data.iloc[:,0:14]\n",
    "Y = data.iloc[:,-1]"
   ]
  },
  {
   "cell_type": "code",
   "execution_count": 6,
   "metadata": {},
   "outputs": [],
   "source": [
    "from sklearn.model_selection import train_test_split\n",
    "xtrain, xtest, ytrain, ytest = train_test_split(X, Y, test_size = 30)"
   ]
  },
  {
   "cell_type": "code",
   "execution_count": 7,
   "metadata": {},
   "outputs": [
    {
     "name": "stdout",
     "output_type": "stream",
     "text": [
      "1. Using RandomForestClassifier Method\n",
      "Accuracy - 100.0\n",
      "Recall - 1.0\n",
      "Precision Score - 1.0\n",
      "Confusion matrix\n",
      "[[14  0]\n",
      " [ 0 16]]\n",
      "\n",
      "\n"
     ]
    }
   ],
   "source": [
    "from sklearn.ensemble import RandomForestClassifier\n",
    "RFC = RandomForestClassifier()\n",
    "RFC.fit(xtrain, ytrain)\n",
    "pred_rfc = RFC.predict(xtest)\n",
    "acc_rfc = metrics.accuracy_score(ytest, pred_rfc)*100\n",
    "joblib.dump(RFC, 'model_RFC.pkl')\n",
    "\n",
    "\n",
    "print('1. Using RandomForestClassifier Method')\n",
    "print('Accuracy - {}'.format(acc_rfc))\n",
    "print('Recall - {}'.format(metrics.recall_score(ytest, pred_rfc)))\n",
    "print('Precision Score - {}'.format(metrics.precision_score(ytest, pred_rfc)))\n",
    "print('Confusion matrix')\n",
    "print(metrics.confusion_matrix(ytest, pred_rfc))\n",
    "print('\\n')\n",
    "time.sleep(1)"
   ]
  },
  {
   "cell_type": "code",
   "execution_count": 8,
   "metadata": {},
   "outputs": [
    {
     "name": "stdout",
     "output_type": "stream",
     "text": [
      "2. Using Gradient Boosting Method\n",
      "Accuracy - 100.0\n",
      "Recall - 1.0\n",
      "Precision Score - 1.0\n",
      "Confusion matrix\n",
      "[[14  0]\n",
      " [ 0 16]]\n",
      "\n",
      "\n"
     ]
    }
   ],
   "source": [
    "from sklearn.ensemble import GradientBoostingClassifier\n",
    "GB = GradientBoostingClassifier()\n",
    "GB.fit(xtrain, ytrain)\n",
    "pred_gb = GB.predict(xtest)\n",
    "acc_gb = metrics.accuracy_score(ytest, pred_gb)*100\n",
    "joblib.dump(GB, 'model_GB.pkl')\n",
    "\n",
    "\n",
    "print('2. Using Gradient Boosting Method')\n",
    "print('Accuracy - {}'.format(acc_gb))\n",
    "print('Recall - {}'.format(metrics.recall_score(ytest, pred_gb)))\n",
    "print('Precision Score - {}'.format(metrics.precision_score(ytest, pred_gb)))\n",
    "print('Confusion matrix')\n",
    "print(metrics.confusion_matrix(ytest, pred_gb))\n",
    "print('\\n')\n",
    "time.sleep(1)"
   ]
  },
  {
   "cell_type": "code",
   "execution_count": 9,
   "metadata": {},
   "outputs": [
    {
     "name": "stdout",
     "output_type": "stream",
     "text": [
      "3. Using Logistic Regression Method\n",
      "Accuracy - 96.66666666666667\n",
      "Recall - 0.9375\n",
      "Precision Score - 1.0\n",
      "Confusion matrix\n",
      "[[14  0]\n",
      " [ 1 15]]\n",
      "\n",
      "\n"
     ]
    }
   ],
   "source": [
    "from sklearn.linear_model import LogisticRegression\n",
    "LR = LogisticRegression()\n",
    "LR.fit(xtrain, ytrain)\n",
    "pred_lr = LR.predict(xtest)\n",
    "acc_lr = metrics.accuracy_score(ytest, pred_lr)*100\n",
    "joblib.dump(LR, 'model_LR.pkl')\n",
    "\n",
    "print('3. Using Logistic Regression Method')\n",
    "print('Accuracy - {}'.format(acc_lr))\n",
    "print('Recall - {}'.format(metrics.recall_score(ytest, pred_lr)))\n",
    "print('Precision Score - {}'.format(metrics.precision_score(ytest, pred_lr)))\n",
    "print('Confusion matrix')\n",
    "print(metrics.confusion_matrix(ytest, pred_lr))\n",
    "print('\\n')\n",
    "time.sleep(1)"
   ]
  },
  {
   "cell_type": "code",
   "execution_count": 10,
   "metadata": {},
   "outputs": [
    {
     "name": "stdout",
     "output_type": "stream",
     "text": [
      "4. Using SVM Method\n",
      "Accuracy - 96.66666666666667\n",
      "Recall - 0.9375\n",
      "Precision Score - 1.0\n",
      "Confusion matrix\n",
      "[[14  0]\n",
      " [ 1 15]]\n",
      "\n",
      "\n"
     ]
    }
   ],
   "source": [
    "from sklearn import svm\n",
    "SVM = svm.LinearSVC(loss='hinge')\n",
    "SVM.fit(xtrain, ytrain)\n",
    "pred_svm = SVM.predict(xtest)\n",
    "acc_svm = metrics.accuracy_score(ytest, pred_svm)*100\n",
    "joblib.dump(SVM, 'model_SVM.pkl')\n",
    "\n",
    "print('4. Using SVM Method')\n",
    "print('Accuracy - {}'.format(acc_svm))\n",
    "print('Recall - {}'.format(metrics.recall_score(ytest, pred_svm)))\n",
    "print('Precision Score - {}'.format(metrics.precision_score(ytest, pred_svm)))\n",
    "print('Confusion matrix')\n",
    "print(metrics.confusion_matrix(ytest, pred_svm))\n",
    "print('\\n')\n",
    "time.sleep(1)"
   ]
  },
  {
   "cell_type": "code",
   "execution_count": 11,
   "metadata": {},
   "outputs": [
    {
     "name": "stdout",
     "output_type": "stream",
     "text": [
      "5. Using KNN Method\n",
      "Accuracy - 100.0\n",
      "Recall - 1.0\n",
      "Precision Score - 1.0\n",
      "Confusion matrix\n",
      "[[14  0]\n",
      " [ 0 16]]\n",
      "\n",
      "\n"
     ]
    }
   ],
   "source": [
    "from sklearn.neighbors import KNeighborsClassifier\n",
    "KNN = KNeighborsClassifier(n_neighbors=61)\n",
    "KNN.fit(xtrain, ytrain)\n",
    "pred_knn = KNN.predict(xtest)\n",
    "acc_knn = metrics.accuracy_score(ytest, pred_knn)*100\n",
    "joblib.dump(KNN, 'model_KNN.pkl')\n",
    "\n",
    "\n",
    "print('5. Using KNN Method')\n",
    "print('Accuracy - {}'.format(acc_knn))\n",
    "print('Recall - {}'.format(metrics.recall_score(ytest, pred_knn)))\n",
    "print('Precision Score - {}'.format(metrics.precision_score(ytest, pred_knn)))\n",
    "print('Confusion matrix')\n",
    "print(metrics.confusion_matrix(ytest, pred_knn))\n",
    "print('\\n')\n",
    "time.sleep(1)"
   ]
  },
  {
   "cell_type": "code",
   "execution_count": 12,
   "metadata": {},
   "outputs": [
    {
     "name": "stdout",
     "output_type": "stream",
     "text": [
      "6. Using Decision Tree Method\n",
      "Accuracy - 100.0\n",
      "Recall - 1.0\n",
      "Precision Score - 1.0\n",
      "Confusion matrix\n",
      "[[14  0]\n",
      " [ 0 16]]\n",
      "\n",
      "\n"
     ]
    }
   ],
   "source": [
    "from sklearn.tree import DecisionTreeClassifier\n",
    "DT = DecisionTreeClassifier(max_depth=10, random_state=101, max_features=None, min_samples_leaf=10)\n",
    "DT.fit(xtrain, ytrain)\n",
    "pred_DT = DT.predict(xtest)\n",
    "acc_DT = metrics.accuracy_score(ytest, pred_DT)*100\n",
    "joblib.dump(DT, 'model_DT.pkl')\n",
    "\n",
    "\n",
    "print('6. Using Decision Tree Method')\n",
    "print('Accuracy - {}'.format(acc_DT))\n",
    "print('Recall - {}'.format(metrics.recall_score(ytest, pred_DT)))\n",
    "print('Precision Score - {}'.format(metrics.precision_score(ytest, pred_DT)))\n",
    "print('Confusion matrix')\n",
    "print(metrics.confusion_matrix(ytest, pred_DT))\n",
    "print('\\n')\n",
    "time.sleep(1)"
   ]
  },
  {
   "cell_type": "code",
   "execution_count": 16,
   "metadata": {},
   "outputs": [
    {
     "name": "stdout",
     "output_type": "stream",
     "text": [
      "8. Using MLP Method\n",
      "Accuracy - 96.66666666666667\n",
      "Recall - 0.9375\n",
      "Precision Score - 1.0\n",
      "Confusion matrix\n",
      "[[14  0]\n",
      " [ 1 15]]\n",
      "\n",
      "\n"
     ]
    }
   ],
   "source": [
    "from sklearn.neural_network import MLPClassifier\n",
    "MLP = MLPClassifier(hidden_layer_sizes=(20,4,1))\n",
    "MLP.fit(xtrain, ytrain)\n",
    "pred_MLP = MLP.predict(xtest)\n",
    "acc_MLP = metrics.accuracy_score(ytest, pred_MLP)*100\n",
    "joblib.dump(MLP, 'model_MLP.pkl')\n",
    "\n",
    "print('8. Using MLP Method')\n",
    "print('Accuracy - {}'.format(acc_MLP))\n",
    "print('Recall - {}'.format(metrics.recall_score(ytest, pred_MLP)))\n",
    "print('Precision Score - {}'.format(metrics.precision_score(ytest, pred_MLP)))\n",
    "print('Confusion matrix')\n",
    "print(metrics.confusion_matrix(ytest, pred_MLP))\n",
    "print('\\n')\n",
    "time.sleep(1)"
   ]
  },
  {
   "cell_type": "code",
   "execution_count": 77,
   "metadata": {},
   "outputs": [
    {
     "data": {
      "image/png": "[encoded data removed]",
      "text/plain": [
       "<Figure size 432x288 with 1 Axes>"
      ]
     },
     "metadata": {
      "needs_background": "light"
     },
     "output_type": "display_data"
    }
   ],
   "source": [
    "import matplotlib.pyplot as plt\n",
    "\n",
    "#Defining labels and data\n",
    "height = [acc_rfc, acc_gb, acc_lr, acc_svm , acc_knn, acc_DT, acc_MLP]\n",
    "bars = ('RF', 'GB', 'LR', 'SVM', 'KNN', 'DT', 'MLP')\n",
    "y_pos = np.arange(len(bars))\n",
    " \n",
    "# Create bars and choose color\n",
    "plt.bar(y_pos, height, color = (1.00, 0.65, 0.00, 1.0))\n",
    " \n",
    "# Add Title and Axis names\n",
    "\n",
    "plt.title('Comparision Study')\n",
    "plt.xlabel('Algorithms')\n",
    "plt.ylabel('Accuracy')\n",
    " \n",
    "# Limits for the Y axis\n",
    "plt.ylim(0,100) \n",
    "# Create names\n",
    "plt.xticks(y_pos, bars) \n",
    "#Save the graphic\n",
    "plt.savefig('Comparison_Study')\n",
    "# Show graphic\n",
    "plt.show()"
   ]
  },
  {
   "cell_type": "code",
   "execution_count": 42,
   "metadata": {},
   "outputs": [
    {
     "name": "stdout",
     "output_type": "stream",
     "text": [
      "Enter 0 for female and  1 for male0\n"
     ]
    }
   ],
   "source": [
    "gender= float(input(\"Enter 0 for female and  1 for male\"))\n"
   ]
  },
  {
   "cell_type": "code",
   "execution_count": 43,
   "metadata": {},
   "outputs": [
    {
     "name": "stdout",
     "output_type": "stream",
     "text": [
      "Enter your age46\n"
     ]
    }
   ],
   "source": [
    "age=float(input(\"Enter your age\"))"
   ]
  },
  {
   "cell_type": "code",
   "execution_count": 44,
   "metadata": {},
   "outputs": [
    {
     "name": "stdout",
     "output_type": "stream",
     "text": [
      "Enter 0 if you're a non smoker and enter 1 if you're a smoker1\n"
     ]
    }
   ],
   "source": [
    "#cs is to check if a person smokes cigarettes\n",
    "cs=float(input(\"Enter 0 if you're a non smoker and enter 1 if you're a smoker\"))"
   ]
  },
  {
   "cell_type": "code",
   "execution_count": 45,
   "metadata": {},
   "outputs": [
    {
     "name": "stdout",
     "output_type": "stream",
     "text": [
      "Enter the the number of cigarettes you smoke on average in one day43\n"
     ]
    }
   ],
   "source": [
    "#nc is no: of cigarettes the person smokes on an average day\n",
    "nc=float(input(\"Enter the the number of cigarettes you smoke on average in one day\"))"
   ]
  },
  {
   "cell_type": "code",
   "execution_count": 46,
   "metadata": {},
   "outputs": [
    {
     "name": "stdout",
     "output_type": "stream",
     "text": [
      "Enter 0 if you haven't been on a blood pressure medication else select 1 if you have been on a blood pressure medication0\n"
     ]
    }
   ],
   "source": [
    "#bm is to know if the patient was on blood pressure medication\n",
    "bm=float(input(\"Enter 0 if you haven't been on a blood pressure medication else select 1 if you have been on a blood pressure medication\"))"
   ]
  },
  {
   "cell_type": "code",
   "execution_count": 47,
   "metadata": {},
   "outputs": [
    {
     "name": "stdout",
     "output_type": "stream",
     "text": [
      "Enter 0 if you have never had a stroke else enter 1 if you have previously had a stroke 0\n"
     ]
    }
   ],
   "source": [
    "#ps is whether or not the patient had previously had a stroke\n",
    "ps=float(input(\"Enter 0 if you have never had a stroke else enter 1 if you have previously had a stroke \"))"
   ]
  },
  {
   "cell_type": "code",
   "execution_count": 48,
   "metadata": {},
   "outputs": [
    {
     "name": "stdout",
     "output_type": "stream",
     "text": [
      "Enter 0 if you have never had a high BP else enter 1 if you have had a high BP1\n"
     ]
    }
   ],
   "source": [
    "#ph is whether or not the patient was hypertensive\n",
    "ph=float(input(\"Enter 0 if you have never had a high BP else enter 1 if you have had a high BP\"))"
   ]
  },
  {
   "cell_type": "code",
   "execution_count": 49,
   "metadata": {},
   "outputs": [
    {
     "name": "stdout",
     "output_type": "stream",
     "text": [
      "Enter 0 if you have had diabetes else enter 1 if you have diabetes0\n"
     ]
    }
   ],
   "source": [
    "#di is whether or not the patient had diabetes \n",
    "di= float(input(\"Enter 0 if you have had diabetes else enter 1 if you have diabetes\"))"
   ]
  },
  {
   "cell_type": "code",
   "execution_count": 50,
   "metadata": {},
   "outputs": [
    {
     "name": "stdout",
     "output_type": "stream",
     "text": [
      "Enter your cholestrol level236\n"
     ]
    }
   ],
   "source": [
    "#chol is the cholestrol level\n",
    "chol=float(input(\"Enter your cholestrol level\"))"
   ]
  },
  {
   "cell_type": "code",
   "execution_count": 51,
   "metadata": {},
   "outputs": [
    {
     "name": "stdout",
     "output_type": "stream",
     "text": [
      "Enter your systolic blood pressure142\n"
     ]
    }
   ],
   "source": [
    "#sys is systolic blood pressure\n",
    "sys=float(input(\"Enter your systolic blood pressure\"))"
   ]
  },
  {
   "cell_type": "code",
   "execution_count": 52,
   "metadata": {},
   "outputs": [
    {
     "name": "stdout",
     "output_type": "stream",
     "text": [
      "Enter your diastolic blood pressure94\n"
     ]
    }
   ],
   "source": [
    "#dia is diastolic blood pressure\n",
    "dia=float(input(\"Enter your diastolic blood pressure\"))"
   ]
  },
  {
   "cell_type": "code",
   "execution_count": 53,
   "metadata": {},
   "outputs": [
    {
     "name": "stdout",
     "output_type": "stream",
     "text": [
      "Enter your Body Mass Index42.15\n"
     ]
    }
   ],
   "source": [
    "#bmi is Body Mass Index\n",
    "bmi=float(input(\"Enter your Body Mass Index\"))"
   ]
  },
  {
   "cell_type": "code",
   "execution_count": 54,
   "metadata": {},
   "outputs": [
    {
     "name": "stdout",
     "output_type": "stream",
     "text": [
      "Enter your heart rate110\n"
     ]
    }
   ],
   "source": [
    "#hr is Heart rate (number of heart beats per second)\n",
    "hr=float(input(\"Enter your heart rate\"))"
   ]
  },
  {
   "cell_type": "code",
   "execution_count": 55,
   "metadata": {},
   "outputs": [
    {
     "name": "stdout",
     "output_type": "stream",
     "text": [
      "Enter your glucose level82\n"
     ]
    }
   ],
   "source": [
    "#gl is glucose level\n",
    "gl=float(input(\"Enter your glucose level\"))\n"
   ]
  },
  {
   "cell_type": "code",
   "execution_count": 56,
   "metadata": {},
   "outputs": [
    {
     "name": "stdout",
     "output_type": "stream",
     "text": [
      "[[0.0, 46.0, 1.0, 43.0, 0.0, 0.0, 1.0, 0.0, 236.0, 142.0, 94.0, 42.15, 110.0, 82.0]]\n"
     ]
    }
   ],
   "source": [
    "pred=[[gender,age,cs,nc,bm,ps,ph,di,chol,sys,dia,bmi,hr,gl]]\n",
    "print(pred)"
   ]
  },
  {
   "cell_type": "code",
   "execution_count": 68,
   "metadata": {},
   "outputs": [
    {
     "name": "stdout",
     "output_type": "stream",
     "text": [
      "[1]\n"
     ]
    }
   ],
   "source": [
    "loaded_model = joblib.load('model_RFC.pkl')\n",
    "rfc_res=(loaded_model.predict(pred))\n",
    "print(rfc_res)"
   ]
  },
  {
   "cell_type": "code",
   "execution_count": 69,
   "metadata": {},
   "outputs": [
    {
     "name": "stdout",
     "output_type": "stream",
     "text": [
      "[1]\n"
     ]
    }
   ],
   "source": [
    "loaded_model = joblib.load('model_GB.pkl')\n",
    "gb_res=(loaded_model.predict(pred))\n",
    "print(gb_res)"
   ]
  },
  {
   "cell_type": "code",
   "execution_count": 70,
   "metadata": {},
   "outputs": [
    {
     "name": "stdout",
     "output_type": "stream",
     "text": [
      "[1]\n"
     ]
    }
   ],
   "source": [
    "loaded_model = joblib.load('model_LR.pkl')\n",
    "lr_res=(loaded_model.predict(pred))\n",
    "print(lr_res)"
   ]
  },
  {
   "cell_type": "code",
   "execution_count": 71,
   "metadata": {},
   "outputs": [
    {
     "name": "stdout",
     "output_type": "stream",
     "text": [
      "[1]\n"
     ]
    }
   ],
   "source": [
    "loaded_model = joblib.load('model_SVM.pkl')\n",
    "svm_res=(loaded_model.predict(pred))\n",
    "print(svm_res)"
   ]
  },
  {
   "cell_type": "code",
   "execution_count": 72,
   "metadata": {},
   "outputs": [
    {
     "name": "stdout",
     "output_type": "stream",
     "text": [
      "[1]\n"
     ]
    }
   ],
   "source": [
    "loaded_model = joblib.load('model_KNN.pkl')\n",
    "knn_res=(loaded_model.predict(pred))\n",
    "print(knn_res)"
   ]
  },
  {
   "cell_type": "code",
   "execution_count": 73,
   "metadata": {},
   "outputs": [
    {
     "name": "stdout",
     "output_type": "stream",
     "text": [
      "[1]\n"
     ]
    }
   ],
   "source": [
    "loaded_model = joblib.load('model_DT.pkl')\n",
    "dt_res=(loaded_model.predict(pred))\n",
    "print(dt_res)"
   ]
  },
  {
   "cell_type": "code",
   "execution_count": 74,
   "metadata": {},
   "outputs": [
    {
     "name": "stdout",
     "output_type": "stream",
     "text": [
      "[1]\n"
     ]
    }
   ],
   "source": [
    "loaded_model = joblib.load('model_MLP.pkl')\n",
    "mlp_res=(loaded_model.predict(pred))\n",
    "print(mlp_res)"
   ]
  },
  {
   "cell_type": "code",
   "execution_count": 76,
   "metadata": {},
   "outputs": [
    {
     "name": "stdout",
     "output_type": "stream",
     "text": [
      "positive\n"
     ]
    }
   ],
   "source": [
    "import numpy as np\n",
    "x=[rfc_res,gb_res,lr_res,svm_res,knn_res,dt_res,mlp_res]\n",
    "result= np.mean(x)\n",
    "if result >= 0.5:\n",
    "    print(\"positive\")\n",
    "else:\n",
    "    print(\"negative\")"
   ]
  },
  {
   "cell_type": "code",
   "execution_count": null,
   "metadata": {},
   "outputs": [],
   "source": []
  }
 ],
 "metadata": {
  "kernelspec": {
   "display_name": "Python 3",
   "language": "python",
   "name": "python3"
  },
  "language_info": {
   "codemirror_mode": {
    "name": "ipython",
    "version": 3
   },
   "file_extension": ".py",
   "mimetype": "text/x-python",
   "name": "python",
   "nbconvert_exporter": "python",
   "pygments_lexer": "ipython3",
   "version": "3.7.3"
  }
 },
 "nbformat": 4,
 "nbformat_minor": 2
}
